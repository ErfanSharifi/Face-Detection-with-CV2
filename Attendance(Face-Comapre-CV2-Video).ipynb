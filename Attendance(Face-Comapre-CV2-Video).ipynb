{
 "cells": [
  {
   "cell_type": "code",
   "execution_count": 1,
   "metadata": {},
   "outputs": [],
   "source": [
    "import numpy as np\n",
    "import cv2 as cv\n",
    "import face_recognition as fc\n",
    "import os"
   ]
  },
  {
   "cell_type": "code",
   "execution_count": 2,
   "metadata": {},
   "outputs": [],
   "source": [
    "path = \"/Users/admin/Documents/MyDocuments/Ai/DeepLearning/DeepLearning Courses/Ostad Ghasemi/Codes/Face Recognition-With-CV2/Validatio Soorat\"\n",
    "images = []\n",
    "classNames = []"
   ]
  },
  {
   "cell_type": "code",
   "execution_count": 3,
   "metadata": {},
   "outputs": [
    {
     "name": "stdout",
     "output_type": "stream",
     "text": [
      "['Masood', 'Mojtaba', 'Behzad', 'Vahid']\n"
     ]
    }
   ],
   "source": [
    "myList = os.listdir(path)\n",
    "myList.remove('.DS_Store')\n",
    "for cl in myList:\n",
    "    curImg = cv.imread(f'{path}/{cl}')\n",
    "    images.append(curImg)\n",
    "    classNames.append(os.path.splitext(cl)[0])\n",
    "print (classNames)"
   ]
  },
  {
   "cell_type": "code",
   "execution_count": 4,
   "metadata": {},
   "outputs": [],
   "source": [
    "def findEncodings(images):\n",
    "\n",
    "    encodeList = []\n",
    "    for img in images:\n",
    "        img = cv.cvtColor(img, cv.COLOR_BGR2RGB)\n",
    "        encode = fc.face_encodings(img)[0]\n",
    "        encodeList.append(encode)\n",
    "    return encodeList"
   ]
  },
  {
   "cell_type": "code",
   "execution_count": 5,
   "metadata": {},
   "outputs": [
    {
     "name": "stdout",
     "output_type": "stream",
     "text": [
      "Encodine Complete\n"
     ]
    }
   ],
   "source": [
    "encodelistKnown = findEncodings(images)\n",
    "print (\"Encodine Complete\")"
   ]
  },
  {
   "cell_type": "code",
   "execution_count": 6,
   "metadata": {},
   "outputs": [
    {
     "name": "stdout",
     "output_type": "stream",
     "text": [
      "4\n"
     ]
    }
   ],
   "source": [
    "print (len(encodelistKnown))"
   ]
  },
  {
   "cell_type": "code",
   "execution_count": 11,
   "metadata": {},
   "outputs": [
    {
     "name": "stdout",
     "output_type": "stream",
     "text": [
      "[0.65532749 0.77130327 0.59901623 0.62470518]\n",
      "2\n",
      "BEHZAD\n",
      "[0.6969973  0.79002064 0.64268854 0.63117007]\n",
      "3\n",
      "[0.66675355 0.77082243 0.62768034 0.68693304]\n",
      "2\n",
      "[0.68766527 0.77207242 0.58934695 0.63122298]\n",
      "2\n",
      "BEHZAD\n",
      "[0.66816468 0.793216   0.6125356  0.68911164]\n",
      "2\n",
      "[0.68347769 0.80229004 0.59315835 0.68494088]\n",
      "2\n",
      "BEHZAD\n",
      "[0.7385285  0.8191646  0.59393891 0.70985208]\n",
      "2\n",
      "BEHZAD\n",
      "[0.74539884 0.81225278 0.622674   0.75151412]\n",
      "2\n",
      "[0.72046283 0.80802699 0.6295103  0.73771016]\n",
      "2\n",
      "[0.68418757 0.78441627 0.64316407 0.69497885]\n",
      "2\n",
      "[0.72130945 0.80986824 0.65127692 0.75200845]\n",
      "2\n",
      "[0.69639368 0.79957168 0.66512818 0.73087431]\n",
      "2\n",
      "[0.72068204 0.80729961 0.61688718 0.72141905]\n",
      "2\n",
      "[0.71217822 0.78791024 0.6502308  0.72057503]\n",
      "2\n",
      "[0.69930105 0.78925852 0.63390397 0.75232963]\n",
      "2\n",
      "[0.68188112 0.79404351 0.62983587 0.72099877]\n",
      "2\n",
      "[0.68007147 0.78336227 0.61867876 0.69757314]\n",
      "2\n",
      "[0.64287636 0.7463409  0.63064199 0.68445774]\n",
      "2\n",
      "[0.61100549 0.73886355 0.65004275 0.70903767]\n",
      "0\n",
      "[0.67490961 0.78067044 0.66919409 0.78368199]\n",
      "2\n",
      "[0.64392476 0.75024687 0.61539184 0.69521338]\n",
      "2\n",
      "[0.66265927 0.81808381 0.64810308 0.69656831]\n",
      "2\n",
      "[0.67767199 0.80258417 0.59813291 0.65293736]\n",
      "2\n",
      "BEHZAD\n",
      "[0.68491824 0.78648477 0.60064289 0.69103377]\n",
      "2\n",
      "[0.67909817 0.78505279 0.6036283  0.70003478]\n",
      "2\n",
      "[0.71163678 0.75968794 0.58544031 0.69608073]\n",
      "2\n",
      "BEHZAD\n",
      "[0.64686134 0.78051784 0.66932596 0.74260864]\n",
      "0\n",
      "[0.64382347 0.75597312 0.60682941 0.70217347]\n",
      "2\n",
      "[0.63613074 0.76433558 0.63568752 0.72755756]\n",
      "2\n",
      "[0.61963271 0.76547884 0.64121365 0.73292157]\n",
      "0\n",
      "[0.62886546 0.79335981 0.61256707 0.70929297]\n",
      "2\n"
     ]
    },
    {
     "ename": "KeyboardInterrupt",
     "evalue": "",
     "output_type": "error",
     "traceback": [
      "\u001b[0;31m---------------------------------------------------------------------------\u001b[0m",
      "\u001b[0;31mKeyboardInterrupt\u001b[0m                         Traceback (most recent call last)",
      "\u001b[0;32m/var/folders/m9/l011tx0s62bfyw8b8vmx00lm0000gn/T/ipykernel_48004/1806141834.py\u001b[0m in \u001b[0;36m<module>\u001b[0;34m\u001b[0m\n\u001b[1;32m      7\u001b[0m     \u001b[0mimgS\u001b[0m \u001b[0;34m=\u001b[0m \u001b[0mcv\u001b[0m\u001b[0;34m.\u001b[0m\u001b[0mcvtColor\u001b[0m\u001b[0;34m(\u001b[0m\u001b[0mimgS\u001b[0m\u001b[0;34m,\u001b[0m \u001b[0mcv\u001b[0m\u001b[0;34m.\u001b[0m\u001b[0mCOLOR_BGR2RGB\u001b[0m\u001b[0;34m)\u001b[0m\u001b[0;34m\u001b[0m\u001b[0;34m\u001b[0m\u001b[0m\n\u001b[1;32m      8\u001b[0m \u001b[0;34m\u001b[0m\u001b[0m\n\u001b[0;32m----> 9\u001b[0;31m     \u001b[0mfaceCurFrame\u001b[0m \u001b[0;34m=\u001b[0m \u001b[0mfc\u001b[0m\u001b[0;34m.\u001b[0m\u001b[0mface_locations\u001b[0m\u001b[0;34m(\u001b[0m\u001b[0mimgS\u001b[0m\u001b[0;34m)\u001b[0m\u001b[0;34m\u001b[0m\u001b[0;34m\u001b[0m\u001b[0m\n\u001b[0m\u001b[1;32m     10\u001b[0m     \u001b[0mencodeCurFrame\u001b[0m \u001b[0;34m=\u001b[0m \u001b[0mfc\u001b[0m\u001b[0;34m.\u001b[0m\u001b[0mface_encodings\u001b[0m\u001b[0;34m(\u001b[0m\u001b[0mimgS\u001b[0m\u001b[0;34m,\u001b[0m \u001b[0mfaceCurFrame\u001b[0m\u001b[0;34m)\u001b[0m\u001b[0;34m\u001b[0m\u001b[0;34m\u001b[0m\u001b[0m\n\u001b[1;32m     11\u001b[0m \u001b[0;34m\u001b[0m\u001b[0m\n",
      "\u001b[0;32m/usr/local/lib/python3.9/site-packages/face_recognition/api.py\u001b[0m in \u001b[0;36mface_locations\u001b[0;34m(img, number_of_times_to_upsample, model)\u001b[0m\n\u001b[1;32m    119\u001b[0m         \u001b[0;32mreturn\u001b[0m \u001b[0;34m[\u001b[0m\u001b[0m_trim_css_to_bounds\u001b[0m\u001b[0;34m(\u001b[0m\u001b[0m_rect_to_css\u001b[0m\u001b[0;34m(\u001b[0m\u001b[0mface\u001b[0m\u001b[0;34m.\u001b[0m\u001b[0mrect\u001b[0m\u001b[0;34m)\u001b[0m\u001b[0;34m,\u001b[0m \u001b[0mimg\u001b[0m\u001b[0;34m.\u001b[0m\u001b[0mshape\u001b[0m\u001b[0;34m)\u001b[0m \u001b[0;32mfor\u001b[0m \u001b[0mface\u001b[0m \u001b[0;32min\u001b[0m \u001b[0m_raw_face_locations\u001b[0m\u001b[0;34m(\u001b[0m\u001b[0mimg\u001b[0m\u001b[0;34m,\u001b[0m \u001b[0mnumber_of_times_to_upsample\u001b[0m\u001b[0;34m,\u001b[0m \u001b[0;34m\"cnn\"\u001b[0m\u001b[0;34m)\u001b[0m\u001b[0;34m]\u001b[0m\u001b[0;34m\u001b[0m\u001b[0;34m\u001b[0m\u001b[0m\n\u001b[1;32m    120\u001b[0m     \u001b[0;32melse\u001b[0m\u001b[0;34m:\u001b[0m\u001b[0;34m\u001b[0m\u001b[0;34m\u001b[0m\u001b[0m\n\u001b[0;32m--> 121\u001b[0;31m         \u001b[0;32mreturn\u001b[0m \u001b[0;34m[\u001b[0m\u001b[0m_trim_css_to_bounds\u001b[0m\u001b[0;34m(\u001b[0m\u001b[0m_rect_to_css\u001b[0m\u001b[0;34m(\u001b[0m\u001b[0mface\u001b[0m\u001b[0;34m)\u001b[0m\u001b[0;34m,\u001b[0m \u001b[0mimg\u001b[0m\u001b[0;34m.\u001b[0m\u001b[0mshape\u001b[0m\u001b[0;34m)\u001b[0m \u001b[0;32mfor\u001b[0m \u001b[0mface\u001b[0m \u001b[0;32min\u001b[0m \u001b[0m_raw_face_locations\u001b[0m\u001b[0;34m(\u001b[0m\u001b[0mimg\u001b[0m\u001b[0;34m,\u001b[0m \u001b[0mnumber_of_times_to_upsample\u001b[0m\u001b[0;34m,\u001b[0m \u001b[0mmodel\u001b[0m\u001b[0;34m)\u001b[0m\u001b[0;34m]\u001b[0m\u001b[0;34m\u001b[0m\u001b[0;34m\u001b[0m\u001b[0m\n\u001b[0m\u001b[1;32m    122\u001b[0m \u001b[0;34m\u001b[0m\u001b[0m\n\u001b[1;32m    123\u001b[0m \u001b[0;34m\u001b[0m\u001b[0m\n",
      "\u001b[0;32m/usr/local/lib/python3.9/site-packages/face_recognition/api.py\u001b[0m in \u001b[0;36m_raw_face_locations\u001b[0;34m(img, number_of_times_to_upsample, model)\u001b[0m\n\u001b[1;32m    103\u001b[0m         \u001b[0;32mreturn\u001b[0m \u001b[0mcnn_face_detector\u001b[0m\u001b[0;34m(\u001b[0m\u001b[0mimg\u001b[0m\u001b[0;34m,\u001b[0m \u001b[0mnumber_of_times_to_upsample\u001b[0m\u001b[0;34m)\u001b[0m\u001b[0;34m\u001b[0m\u001b[0;34m\u001b[0m\u001b[0m\n\u001b[1;32m    104\u001b[0m     \u001b[0;32melse\u001b[0m\u001b[0;34m:\u001b[0m\u001b[0;34m\u001b[0m\u001b[0;34m\u001b[0m\u001b[0m\n\u001b[0;32m--> 105\u001b[0;31m         \u001b[0;32mreturn\u001b[0m \u001b[0mface_detector\u001b[0m\u001b[0;34m(\u001b[0m\u001b[0mimg\u001b[0m\u001b[0;34m,\u001b[0m \u001b[0mnumber_of_times_to_upsample\u001b[0m\u001b[0;34m)\u001b[0m\u001b[0;34m\u001b[0m\u001b[0;34m\u001b[0m\u001b[0m\n\u001b[0m\u001b[1;32m    106\u001b[0m \u001b[0;34m\u001b[0m\u001b[0m\n\u001b[1;32m    107\u001b[0m \u001b[0;34m\u001b[0m\u001b[0m\n",
      "\u001b[0;31mKeyboardInterrupt\u001b[0m: "
     ]
    }
   ],
   "source": [
    "cap = cv.VideoCapture(0)\n",
    "\n",
    "while True:\n",
    "\n",
    "    success, img = cap.read()\n",
    "    imgS = cv.resize(img,(0,0),None,0.25,0.25)\n",
    "    imgS = cv.cvtColor(imgS, cv.COLOR_BGR2RGB)\n",
    "\n",
    "    faceCurFrame = fc.face_locations(imgS)\n",
    "    encodeCurFrame = fc.face_encodings(imgS, faceCurFrame)\n",
    "\n",
    "    for encodeFace,faceloc in zip(encodeCurFrame,faceCurFrame):\n",
    "        matches = fc.compare_faces(encodelistKnown,encodeFace)\n",
    "        faceDis = fc.face_distance(encodelistKnown,encodeFace)\n",
    "        print (faceDis)\n",
    "\n",
    "        matchIndex = np.argmin(faceDis)\n",
    "        print (matchIndex)\n",
    "\n",
    "        if matches[matchIndex]:\n",
    "            name = classNames[matchIndex].upper()\n",
    "            print (name)\n",
    "            y1,x2,y2,x1 = faceloc\n",
    "            y1,x2,y2,x1 = y1*4,x2*4,y2*4,x1*4\n",
    "            cv.rectangle(img, (x1, y1),(x2,y2),(0,255,0) ,2)\n",
    "            cv.rectangle(img, (x1,y2-55),(x2,y2),(0,255,0), cv.FILLED)\n",
    "            cv.putText (img, name, (x1+5,y2-5), cv.FONT_HERSHEY_SIMPLEX, 2, (0,0,255),5)\n",
    "\n",
    "    cv.imshow('Webcam', img)\n",
    "    cv.waitKey(1)\n",
    "\n",
    "    "
   ]
  },
  {
   "cell_type": "code",
   "execution_count": null,
   "metadata": {},
   "outputs": [],
   "source": []
  }
 ],
 "metadata": {
  "interpreter": {
   "hash": "aee8b7b246df8f9039afb4144a1f6fd8d2ca17a180786b69acc140d282b71a49"
  },
  "kernelspec": {
   "display_name": "Python 3.9.6 64-bit",
   "language": "python",
   "name": "python3"
  },
  "language_info": {
   "codemirror_mode": {
    "name": "ipython",
    "version": 3
   },
   "file_extension": ".py",
   "mimetype": "text/x-python",
   "name": "python",
   "nbconvert_exporter": "python",
   "pygments_lexer": "ipython3",
   "version": "3.9.10"
  },
  "orig_nbformat": 4
 },
 "nbformat": 4,
 "nbformat_minor": 2
}
