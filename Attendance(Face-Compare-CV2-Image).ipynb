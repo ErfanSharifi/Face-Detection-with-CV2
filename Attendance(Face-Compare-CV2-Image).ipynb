{
 "cells": [
  {
   "cell_type": "code",
   "execution_count": 1,
   "metadata": {},
   "outputs": [],
   "source": [
    "import numpy as np\n",
    "import cv2 as cv\n",
    "import face_recognition as fc\n",
    "import os"
   ]
  },
  {
   "cell_type": "code",
   "execution_count": 2,
   "metadata": {},
   "outputs": [],
   "source": [
    "path = \"/Users/admin/Documents/MyDocuments/Ai/DeepLearning/DeepLearning Courses/Ostad Ghasemi/Codes/Face Recognition-With-CV2/Validatio Soorat\"\n",
    "images = []\n",
    "classNames = []"
   ]
  },
  {
   "cell_type": "code",
   "execution_count": 3,
   "metadata": {},
   "outputs": [
    {
     "name": "stdout",
     "output_type": "stream",
     "text": [
      "['Masood', 'Mojtaba', 'Behzad', 'Vahid']\n"
     ]
    }
   ],
   "source": [
    "myList = os.listdir(path)\n",
    "myList.remove('.DS_Store')\n",
    "for cl in myList:\n",
    "    curImg = cv.imread(f'{path}/{cl}')\n",
    "    images.append(curImg)\n",
    "    classNames.append(os.path.splitext(cl)[0])\n",
    "print (classNames)"
   ]
  },
  {
   "cell_type": "code",
   "execution_count": 4,
   "metadata": {},
   "outputs": [
    {
     "name": "stdout",
     "output_type": "stream",
     "text": [
      "['Masood.jpg', 'Mojtaba.jpg', 'Behzad.jpg', 'Vahid.jpg']\n"
     ]
    }
   ],
   "source": [
    "print (myList)"
   ]
  },
  {
   "cell_type": "code",
   "execution_count": 5,
   "metadata": {},
   "outputs": [],
   "source": [
    "def findEncodings(images):\n",
    "\n",
    "    encodeList = []\n",
    "    for img in images:\n",
    "        img = cv.cvtColor(img, cv.COLOR_BGR2RGB)\n",
    "        encode = fc.face_encodings(img)[0]\n",
    "        encodeList.append(encode)\n",
    "    return encodeList\n"
   ]
  },
  {
   "cell_type": "code",
   "execution_count": 6,
   "metadata": {},
   "outputs": [
    {
     "name": "stdout",
     "output_type": "stream",
     "text": [
      "Encodine Complete\n"
     ]
    }
   ],
   "source": [
    "encodelistKnown = findEncodings(images)\n",
    "print (\"Encodine Complete\")"
   ]
  },
  {
   "cell_type": "code",
   "execution_count": 7,
   "metadata": {},
   "outputs": [
    {
     "name": "stdout",
     "output_type": "stream",
     "text": [
      "4\n"
     ]
    }
   ],
   "source": [
    "print (len(encodelistKnown))"
   ]
  },
  {
   "cell_type": "code",
   "execution_count": 20,
   "metadata": {},
   "outputs": [
    {
     "name": "stdout",
     "output_type": "stream",
     "text": [
      "[0.65717185 0.45660852 0.79998731 0.77085731]\n",
      "1\n",
      "MOJTABA\n"
     ]
    }
   ],
   "source": [
    "# cap = cv.VideoCapture(0)\n",
    "\n",
    "while True:\n",
    "\n",
    "    # success, img = cap.read()\n",
    "    img  = cv.imread(\"/Users/admin/Documents/MyDocuments/Ai/DeepLearning/DeepLearning Courses/Ostad Ghasemi/Codes/Face Recognition-With-CV2/Moj.jpg\")\n",
    "    imgS = cv.resize(img,(0,0),None,0.25,0.25)\n",
    "    imgS = cv.cvtColor(imgS, cv.COLOR_BGR2RGB)\n",
    "\n",
    "    faceCurFrame = fc.face_locations(imgS)\n",
    "    encodeCurFrame = fc.face_encodings(imgS, faceCurFrame)\n",
    "\n",
    "    for encodeFace,faceloc in zip(encodeCurFrame,faceCurFrame):\n",
    "        matches = fc.compare_faces(encodelistKnown,encodeFace)\n",
    "        faceDis = fc.face_distance(encodelistKnown,encodeFace)\n",
    "        print (faceDis)\n",
    "\n",
    "        matchIndex = np.argmin(faceDis)\n",
    "        print (matchIndex)\n",
    "\n",
    "        if matches[matchIndex]:\n",
    "            name = classNames[matchIndex].upper()\n",
    "            print (name)\n",
    "            y1,x2,y2,x1 = faceloc\n",
    "            y1,x2,y2,x1 = y1*4,x2*4,y2*4,x1*4\n",
    "            cv.rectangle(img, (x1, y1),(x2,y2),(0,255,0) ,2)\n",
    "            cv.rectangle(img, (x1,y2-55),(x2,y2),(0,255,0), cv.FILLED)\n",
    "            cv.putText (img, name, (x1+5,y2-5), cv.FONT_HERSHEY_SIMPLEX, 2, (0,0,255),5)\n",
    "\n",
    "    cv.imshow('Webcam', img)\n",
    "    if cv.waitKey(1) == ord(\"q\"):\n",
    "        cv.destroyAllWindows()\n",
    "\n",
    "    break\n",
    "\n"
   ]
  },
  {
   "cell_type": "code",
   "execution_count": null,
   "metadata": {},
   "outputs": [],
   "source": []
  }
 ],
 "metadata": {
  "interpreter": {
   "hash": "aee8b7b246df8f9039afb4144a1f6fd8d2ca17a180786b69acc140d282b71a49"
  },
  "kernelspec": {
   "display_name": "Python 3.9.6 64-bit",
   "language": "python",
   "name": "python3"
  },
  "language_info": {
   "codemirror_mode": {
    "name": "ipython",
    "version": 3
   },
   "file_extension": ".py",
   "mimetype": "text/x-python",
   "name": "python",
   "nbconvert_exporter": "python",
   "pygments_lexer": "ipython3",
   "version": "3.9.10"
  },
  "orig_nbformat": 4
 },
 "nbformat": 4,
 "nbformat_minor": 2
}
